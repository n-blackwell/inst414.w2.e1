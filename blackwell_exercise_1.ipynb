{
 "cells": [
  {
   "cell_type": "code",
   "execution_count": 7,
   "id": "75ffb644",
   "metadata": {},
   "outputs": [
    {
     "name": "stdout",
     "output_type": "stream",
     "text": [
      "6.82\n",
      "36\n"
     ]
    }
   ],
   "source": [
    "import json\n",
    "with open(\"imdb_movies_1985to2022.json\", 'r') as file:\n",
    "    rating = 0\n",
    "    total = 0\n",
    "    for line in file:\n",
    "        movie = json.loads(line)\n",
    "        for actor in movie['actors']:\n",
    "            if(actor[1] == 'Hugh Jackman'):\n",
    "                rating += movie['rating']['avg']\n",
    "                total += 1\n",
    "    average = rating/total\n",
    "    print(\"%.2f\" % average)\n",
    "    print(total)"
   ]
  },
  {
   "cell_type": "code",
   "execution_count": null,
   "id": "98e2b3f3",
   "metadata": {},
   "outputs": [],
   "source": []
  }
 ],
 "metadata": {
  "kernelspec": {
   "display_name": "Python 3 (ipykernel)",
   "language": "python",
   "name": "python3"
  },
  "language_info": {
   "codemirror_mode": {
    "name": "ipython",
    "version": 3
   },
   "file_extension": ".py",
   "mimetype": "text/x-python",
   "name": "python",
   "nbconvert_exporter": "python",
   "pygments_lexer": "ipython3",
   "version": "3.9.13"
  }
 },
 "nbformat": 4,
 "nbformat_minor": 5
}
